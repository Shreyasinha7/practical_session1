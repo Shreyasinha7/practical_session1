{
 "cells": [
  {
   "cell_type": "code",
   "execution_count": 11,
   "id": "b525fd46",
   "metadata": {},
   "outputs": [],
   "source": [
    "import math\n",
    "import numpy as np"
   ]
  },
  {
   "cell_type": "code",
   "execution_count": 12,
   "id": "c8e9fbc9",
   "metadata": {},
   "outputs": [],
   "source": [
    "\n",
    "def basic_sigmoid(x):\n",
    "\n",
    "\n",
    "    s=1/(1+math.exp(x))\n",
    "    return s"
   ]
  },
  {
   "cell_type": "code",
   "execution_count": 13,
   "id": "3567a013",
   "metadata": {},
   "outputs": [
    {
     "data": {
      "text/plain": [
       "0.7310585786300049"
      ]
     },
     "execution_count": 13,
     "metadata": {},
     "output_type": "execute_result"
    }
   ],
   "source": [
    "basic_sigmoid(-1)"
   ]
  },
  {
   "cell_type": "code",
   "execution_count": 14,
   "id": "0cf842c6",
   "metadata": {},
   "outputs": [
    {
     "name": "stdout",
     "output_type": "stream",
     "text": [
      "[ 2.71828183  7.3890561  20.08553692]\n"
     ]
    }
   ],
   "source": [
    "x=np.array([1,2,3])\n",
    "print(np.exp(x))"
   ]
  },
  {
   "cell_type": "code",
   "execution_count": 15,
   "id": "98fc7d9d",
   "metadata": {},
   "outputs": [],
   "source": [
    "def basic_sigmoid(x):\n",
    "\n",
    "\n",
    "    s=1/(1+np.exp(x))\n",
    "    return s"
   ]
  },
  {
   "cell_type": "code",
   "execution_count": 16,
   "id": "1eb4d488",
   "metadata": {},
   "outputs": [
    {
     "data": {
      "text/plain": [
       "0.7310585786300049"
      ]
     },
     "execution_count": 16,
     "metadata": {},
     "output_type": "execute_result"
    }
   ],
   "source": [
    "basic_sigmoid(-1)"
   ]
  },
  {
   "cell_type": "code",
   "execution_count": 10,
   "id": "6193e67d",
   "metadata": {},
   "outputs": [
    {
     "data": {
      "text/plain": [
       "array([0.26894142, 0.11920292, 0.04742587])"
      ]
     },
     "execution_count": 10,
     "metadata": {},
     "output_type": "execute_result"
    }
   ],
   "source": [
    "x=np.array([1,2,3])\n",
    "basic_sigmoid(x)"
   ]
  },
  {
   "cell_type": "code",
   "execution_count": 22,
   "id": "7d953d21",
   "metadata": {},
   "outputs": [],
   "source": [
    "def basic_sigmoid_derivative(x):\n",
    "    s = 1/(1+np.exp(-x))\n",
    "    ds = s * (1-s)\n",
    "    return ds"
   ]
  },
  {
   "cell_type": "code",
   "execution_count": 23,
   "id": "04a0f5f3",
   "metadata": {},
   "outputs": [
    {
     "name": "stdout",
     "output_type": "stream",
     "text": [
      "basic_sigmoid_derivative [0.19661193 0.10499359 0.04517666]\n"
     ]
    }
   ],
   "source": [
    "x= np.array([1,2,3])\n",
    "print(\"basic_sigmoid_derivative\",str(basic_sigmoid_derivative(x)))"
   ]
  },
  {
   "cell_type": "code",
   "execution_count": 30,
   "id": "6bde1ffd",
   "metadata": {},
   "outputs": [],
   "source": [
    "image = np.array([[[0.67826139, 0.25386381],\n",
    "                   [0.90714082, 0.52835647],\n",
    "                   [0.4215251, 0.45017551]],\n",
    "               \n",
    "                  [[0.92814219, 0.00077647],\n",
    "                   [0.85384783, 0.52353845],\n",
    "                   [0.19981347, 0.27417311]],\n",
    "\n",
    "                  [[0.60659855, 0.00533165],\n",
    "                   [0.10820313, 0.49978937],\n",
    "                   [0.34144279, 0.94630077]]])"
   ]
  },
  {
   "cell_type": "code",
   "execution_count": 35,
   "id": "ed08255b",
   "metadata": {},
   "outputs": [],
   "source": [
    "def image2vector(image):\n",
    "    vec = image.reshape((image.shape[0]*image.shape[1]*image.shape[2], 1))\n",
    "    return vec"
   ]
  },
  {
   "cell_type": "code",
   "execution_count": 37,
   "id": "c0332e4e",
   "metadata": {},
   "outputs": [
    {
     "data": {
      "text/plain": [
       "array([[6.7826139e-01],\n",
       "       [2.5386381e-01],\n",
       "       [9.0714082e-01],\n",
       "       [5.2835647e-01],\n",
       "       [4.2152510e-01],\n",
       "       [4.5017551e-01],\n",
       "       [9.2814219e-01],\n",
       "       [7.7647000e-04],\n",
       "       [8.5384783e-01],\n",
       "       [5.2353845e-01],\n",
       "       [1.9981347e-01],\n",
       "       [2.7417311e-01],\n",
       "       [6.0659855e-01],\n",
       "       [5.3316500e-03],\n",
       "       [1.0820313e-01],\n",
       "       [4.9978937e-01],\n",
       "       [3.4144279e-01],\n",
       "       [9.4630077e-01]])"
      ]
     },
     "execution_count": 37,
     "metadata": {},
     "output_type": "execute_result"
    }
   ],
   "source": [
    "image2vector(image)"
   ]
  },
  {
   "cell_type": "code",
   "execution_count": 40,
   "id": "43afb168",
   "metadata": {},
   "outputs": [],
   "source": [
    "def normalization(x):\n",
    "    x_norm = np.linalg.norm(x, axis=1, keepdims= True)\n",
    "    x=x/x_norm\n",
    "    return x"
   ]
  },
  {
   "cell_type": "code",
   "execution_count": 41,
   "id": "80210cef",
   "metadata": {},
   "outputs": [
    {
     "name": "stdout",
     "output_type": "stream",
     "text": [
      "normalized rows: [[0.         0.99920096 0.03996804]\n",
      " [0.26726124 0.80178373 0.53452248]]\n"
     ]
    }
   ],
   "source": [
    "x = np.array([[0,100,4],[2,6,4]])\n",
    "print(\"normalized rows:\" , normalization(x))"
   ]
  },
  {
   "cell_type": "code",
   "execution_count": 46,
   "id": "83e29369",
   "metadata": {},
   "outputs": [],
   "source": [
    "def softmax(x):\n",
    "    x_exp = np.exp(x)\n",
    "    \n",
    "    x_sum = np.sum(x_exp, axis=1, keepdims = True)\n",
    "    \n",
    "    s = x_exp / x_sum\n",
    "    \n",
    "    return s"
   ]
  },
  {
   "cell_type": "code",
   "execution_count": 47,
   "id": "5b170371",
   "metadata": {},
   "outputs": [
    {
     "data": {
      "text/plain": [
       "array([[0.00626879, 0.01704033, 0.04632042, 0.93037047],\n",
       "       [0.00179998, 0.00489287, 0.26714144, 0.72616571]])"
      ]
     },
     "execution_count": 47,
     "metadata": {},
     "output_type": "execute_result"
    }
   ],
   "source": [
    "x = np.array([[3,4,5,8],\n",
    "            [1,2,6,7]])\n",
    "softmax(x)"
   ]
  },
  {
   "cell_type": "code",
   "execution_count": 48,
   "id": "f461d68b",
   "metadata": {},
   "outputs": [
    {
     "name": "stdout",
     "output_type": "stream",
     "text": [
      "278\n",
      "0.0ms\n",
      "[[81. 18. 18. 81.  0. 81. 18. 45.  0.  0. 81. 18. 45.  0.  0.]\n",
      " [18.  4.  4. 18.  0. 18.  4. 10.  0.  0. 18.  4. 10.  0.  0.]\n",
      " [45. 10. 10. 45.  0. 45. 10. 25.  0.  0. 45. 10. 25.  0.  0.]\n",
      " [ 0.  0.  0.  0.  0.  0.  0.  0.  0.  0.  0.  0.  0.  0.  0.]\n",
      " [ 0.  0.  0.  0.  0.  0.  0.  0.  0.  0.  0.  0.  0.  0.  0.]\n",
      " [63. 14. 14. 63.  0. 63. 14. 35.  0.  0. 63. 14. 35.  0.  0.]\n",
      " [45. 10. 10. 45.  0. 45. 10. 25.  0.  0. 45. 10. 25.  0.  0.]\n",
      " [ 0.  0.  0.  0.  0.  0.  0.  0.  0.  0.  0.  0.  0.  0.  0.]\n",
      " [ 0.  0.  0.  0.  0.  0.  0.  0.  0.  0.  0.  0.  0.  0.  0.]\n",
      " [ 0.  0.  0.  0.  0.  0.  0.  0.  0.  0.  0.  0.  0.  0.  0.]\n",
      " [81. 18. 18. 81.  0. 81. 18. 45.  0.  0. 81. 18. 45.  0.  0.]\n",
      " [18.  4.  4. 18.  0. 18.  4. 10.  0.  0. 18.  4. 10.  0.  0.]\n",
      " [45. 10. 10. 45.  0. 45. 10. 25.  0.  0. 45. 10. 25.  0.  0.]\n",
      " [ 0.  0.  0.  0.  0.  0.  0.  0.  0.  0.  0.  0.  0.  0.  0.]\n",
      " [ 0.  0.  0.  0.  0.  0.  0.  0.  0.  0.  0.  0.  0.  0.  0.]]\n",
      "0.0ms\n"
     ]
    }
   ],
   "source": [
    "import time\n",
    "\n",
    "x1 = [9,2,5,0,0,7,5,0,0,0,9,2,5,0,0]\n",
    "x2 = [9,2,2,9,0,9,2,5,0,0,9,2,5,0,0]\n",
    "\n",
    "tic = time.process_time()\n",
    "dot = 0\n",
    "for i in range(len(x1)):\n",
    "    dot+= x1[i]*x2[i]\n",
    "toc = time.process_time()\n",
    "print(str(dot)+\"\\n\"+ str(1000*(toc-tic))+\"ms\")\n",
    "\n",
    "tic = time.process_time()\n",
    "outer = np.zeros((len(x1),len(x2)))\n",
    "for i in range(len(x1)):\n",
    "    for j in range(len(x1)):\n",
    "        outer[i,j] = x1[i]*x2[j]\n",
    "toc = time.process_time()\n",
    "print(str(outer)+\"\\n\"+ str(1000*(toc-tic))+\"ms\")"
   ]
  },
  {
   "cell_type": "code",
   "execution_count": null,
   "id": "c0b481fb",
   "metadata": {},
   "outputs": [],
   "source": []
  }
 ],
 "metadata": {
  "kernelspec": {
   "display_name": "Python 3 (ipykernel)",
   "language": "python",
   "name": "python3"
  },
  "language_info": {
   "codemirror_mode": {
    "name": "ipython",
    "version": 3
   },
   "file_extension": ".py",
   "mimetype": "text/x-python",
   "name": "python",
   "nbconvert_exporter": "python",
   "pygments_lexer": "ipython3",
   "version": "3.9.12"
  }
 },
 "nbformat": 4,
 "nbformat_minor": 5
}
